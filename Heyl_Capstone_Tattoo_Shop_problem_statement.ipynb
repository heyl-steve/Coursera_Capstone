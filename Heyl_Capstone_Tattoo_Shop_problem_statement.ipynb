{
  "nbformat": 4,
  "nbformat_minor": 0,
  "metadata": {
    "colab": {
      "name": "Heyl-Capstone-Tattoo_Shop-problem statement.ipynb",
      "provenance": [],
      "collapsed_sections": [],
      "authorship_tag": "ABX9TyOSZMdtyPLL3lIDlPJ1ytgG",
      "include_colab_link": true
    },
    "kernelspec": {
      "name": "python3",
      "display_name": "Python 3"
    },
    "language_info": {
      "name": "python"
    }
  },
  "cells": [
    {
      "cell_type": "markdown",
      "metadata": {
        "id": "view-in-github",
        "colab_type": "text"
      },
      "source": [
        "<a href=\"https://colab.research.google.com/github/heyl-steve/Coursera_Capstone/blob/main/Heyl_Capstone_Tattoo_Shop_problem_statement.ipynb\" target=\"_parent\"><img src=\"https://colab.research.google.com/assets/colab-badge.svg\" alt=\"Open In Colab\"/></a>"
      ]
    },
    {
      "cell_type": "markdown",
      "metadata": {
        "id": "rad51t8sM27p"
      },
      "source": [
        "<h1>Select Location for a Tattoo Shop in Los Angeles</h1>\n",
        "<h2>Heyl - Capstone Project</h2>\n",
        "\n",
        "---\n",
        "<h3>Description of the problem:</h3> Where to locate a tattoo business in Los Angeles\n",
        "\n",
        "**Scenario**: The owner of a (hypothetical) tattoo shop in San Diego wants to expand into Los Angeles.\n",
        "\n",
        "**Background**: The tattoo artist started her business some years ago in downtown San Diego. After a few years in that location, she moved to a building next to an LGBTQ+ bar and the business grew rapidly. As the shop's reputation grew among her LGBTQ+ clients, she found a percentage of them were coming from the Los Angeles areas, so she has decided to open a second shop there.\n",
        "She is looking for a location in Los Angeles that is similar to the neighborhood where her San Diego shop is located.\n",
        "\n",
        "<h3>Data Needed:</h3> Current location in San Diego, locations of LGBT+ bars in Los Angeles, & FourSquare data about nearby businesses, etc.\n",
        "\n",
        "**Approach to solving the problem:** I'm looking for locations in Los Angeles that are \"similar\" to the current location in San Diego. Since a major component of the location in San Diego is proximity to an LGBTQ+ bar, I will assign \"neighborhoods\" in Los Angeles centered on LGBTQ+ bars and cluster them based on the other venues in each \"neighborhood\". \n",
        "To determine which of these are \"similar\" to the current location, I will add the current location to the dataframe when creating the clusters. Thus the potential location(s) for the new shop in Los Angeles will be those that cluster with the location of the current shop in San Diego.\n",
        "Finally, I will map the resulting location(s) in Los Angeles.\n",
        "\n",
        "Note: Since some LGBTQ+ bars are located near each other, some \"nearby venues\" may be associated with more than one bar.\n",
        "Note: This is a hypothetical situation, but the LGBTQ+ bars are real.\n",
        "\n",
        "**Acquiring the data (San Diego):** I will choose an address next to existing gay bar in San Diego as the location of the tattoo shop.\n",
        "\n",
        "**Acquiring the data (Los Angeles):** Although FourSquare has a venue category for \"gay bars\", I found that many of the venues returned by a FourSquare API call for \"gay bars\" were not \"gay\" or \"bars\". Some of the venues listed by that method included sushi restaurants and nail salons. \n",
        "So I decided to use a Google search for \"top LGBTQ bars in Los Angeles\" and will manually create a CSV file of the names, addresses, and latitude/longitude (see below).\n",
        "Note: FourSquare does not have a venue category for the more inclusive term \"LGBTQ bars\".\n",
        "\n",
        "\n",
        "---\n"
      ]
    },
    {
      "cell_type": "code",
      "metadata": {
        "id": "Ou2G9xyje_tA"
      },
      "source": [
        ""
      ],
      "execution_count": null,
      "outputs": []
    }
  ]
}