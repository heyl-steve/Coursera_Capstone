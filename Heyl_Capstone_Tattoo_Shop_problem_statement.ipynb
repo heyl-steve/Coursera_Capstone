{
  "nbformat": 4,
  "nbformat_minor": 0,
  "metadata": {
    "colab": {
      "name": "Heyl-Capstone-Tattoo_Shop-problem statement.ipynb",
      "provenance": [],
      "collapsed_sections": [],
      "authorship_tag": "ABX9TyPGzeaSBK3UZVc0DIKkgxJE",
      "include_colab_link": true
    },
    "kernelspec": {
      "name": "python3",
      "display_name": "Python 3"
    },
    "language_info": {
      "name": "python"
    }
  },
  "cells": [
    {
      "cell_type": "markdown",
      "metadata": {
        "id": "view-in-github",
        "colab_type": "text"
      },
      "source": [
        "<a href=\"https://colab.research.google.com/github/heyl-steve/Coursera_Capstone/blob/main/Heyl_Capstone_Tattoo_Shop_problem_statement.ipynb\" target=\"_parent\"><img src=\"https://colab.research.google.com/assets/colab-badge.svg\" alt=\"Open In Colab\"/></a>"
      ]
    },
    {
      "cell_type": "markdown",
      "metadata": {
        "id": "rad51t8sM27p"
      },
      "source": [
        "<h1>Select Location for a Tattoo Shop in Los Angeles</h1>\n",
        "<h2>Heyl - Capstone Project</h2>\n",
        "\n",
        "---\n",
        "<h3>Description of the problem:</h3> Where to locate a tattoo business in Los Angeles\n",
        "\n",
        "**Scenario**: The owner of a (hypothetical) tattoo shop in San Diego wants to expand into Los Angeles.\n",
        "\n",
        "**Background**: The tattoo artist started her business some years ago in downtown San Diego. After a few years in that location, she moved to a building next to an LGBTQ+ bar and the business grew rapidly. As the shop's reputation grew among her LGBTQ+ clients, she found a percentage of them were coming from the Los Angeles areas, so she has decided to open a second shop there.\n",
        "She is looking for a location in Los Angeles that is similar to the neighborhood where her San Diego shop is located.\n",
        "\n",
        "<h3>Data Needed:</h3> Current location in San Diego, locations of LGBT+ bars in Los Angeles, & FourSquare data about nearby businesses, etc.\n",
        "\n",
        "**Approach to solving the problem:** I'm looking for locations in Los Angeles that are \"similar\" to the current location in San Diego. Since a major component of the location in San Diego is proximity to an LGBTQ+ bar, I will assign \"neighborhoods\" in Los Angeles centered on LGBTQ+ bars and cluster them based on the other venues in each \"neighborhood\". \n",
        "To determine which of these are \"similar\" to the current location, I will add the current location to the dataframe when creating the clusters. Thus the potential location(s) for the new shop in Los Angeles will be those that cluster with the location of the current shop in San Diego.\n",
        "Finally, I will map the resulting location(s) in Los Angeles.\n",
        "\n",
        "Note: Since some LGBTQ+ bars are located near each other, some \"nearby venues\" may be associated with more than one bar.\n",
        "Note: This is a hypothetical situation, but the LGBTQ+ bars are real.\n",
        "\n",
        "**Acquiring the data (San Diego):** I will choose an address next to existing gay bar in San Diego as the location of the tattoo shop.\n",
        "\n",
        "**Acquiring the data (Los Angeles):** Although FourSquare has a venue category for \"gay bars\", I found that many of the venues returned by a FourSquare API call for \"gay bars\" were not \"gay\" or \"bars\". Some of the venues listed by that method included sushi restaurants and nail salons. \n",
        "So I decided to use a Google search for \"top LGBTQ bars in Los Angeles\" and will manually create a CSV file of the names, addresses, and latitude/longitude (see below).\n",
        "Note: FourSquare does not have a venue category for the more inclusive term \"LGBTQ bars\".\n",
        "\n",
        "CSV File\n",
        "<pre>\n",
        "id    name    location.lat    location.lng    location.formattedAddress\n",
        "1    Abbey    34.083711    -118.38534    692 N Robertson Blvd, West Hollywood, CA 90069\n",
        "2    Hi Tops    34.084729    -118.3852    8933 Santa Monica Blvd, West Hollywood, CA 90069\n",
        "3    Eagle LA    34.091388    -118.28393    4219 Santa Monica Blvd, Los Angeles, CA 90029\n",
        "4    Revolver    34.085786    -118.38356    8851 Santa Monica Blvd, West Hollywood, CA 90069\n",
        "5    Precinct    34.0498726    -118.24934    357 S Broadway, Los Angeles, CA 90013\n",
        "6    Micky’s    34.085568    -118.383847    8857 Santa Monica Blvd, West Hollywood, CA 90069\n",
        "7    Fubar    34.090818    -118.364593    7994 Santa Monica Blvd, West Hollywood, CA 90046\n",
        "8    Flaming Saddles    34.915184    -118.147613    8811 Santa Monica Blvd, West Hollywood, CA 90069\n",
        "9    Faultline    34.083667    -118.292434    4216 Melrose Ave, Los Angeles, CA 90029\n",
        "10    Akbar    34.095938    -118.28421    4356 Sunset Blvd, Los Angeles, CA 90029\n",
        "11    Redline    34.04503    -118.248992    131 E 6th St, Los Angeles, CA 90014\n",
        "13    Bullet Bar    34.17226    -118.360121    10522 Burbank Blvd, North Hollywood, CA 91601\n",
        "14    C-frenz    34.198546    -118.535844    7026 Reseda Blvd, Reseda, CA 91335\n",
        "15    TigerHeat    34.102916    -118.327129    1735 Vine St, Los Angeles, CA 90028\n",
        "16    Club Tempo    34.090512    -118.310203    5520 Santa Monica Blvd, Los Angeles, CA 90038\n",
        "17    New Jalisco Bar    34.050304    -118.245458    245 S Main St, Los Angeles, CA 90012\n",
        "18    Silver Platter    34.0594434    -118.283553    2700 W 7th St, Los Angeles, CA 90057\n",
        "19    The Gay Bar    34.187419    -118.448479    Sherman Oaks, CA 91423, United States\n",
        "20    Gayle’s Bar    33.855141    -118.385626    Redondo Beach, CA 90277, United States\n",
        "21    The Trashy Lad    34.221655    -118.46694    Los Angeles, CA, United States</pre>\n",
        "---\n"
      ]
    },
    {
      "cell_type": "code",
      "metadata": {
        "id": "Ou2G9xyje_tA"
      },
      "source": [
        ""
      ],
      "execution_count": null,
      "outputs": []
    }
  ]
}